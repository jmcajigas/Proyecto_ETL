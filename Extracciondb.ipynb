{
 "cells": [
  {
   "cell_type": "code",
   "execution_count": 1,
   "metadata": {},
   "outputs": [],
   "source": [
    "import sys\n",
    "sys.path.append(r'C:\\Proyectos\\Falcon\\Scripts')\n",
    "from utils import Utils"
   ]
  },
  {
   "cell_type": "code",
   "execution_count": 2,
   "metadata": {},
   "outputs": [],
   "source": [
    "import os\n",
    "import sys\n",
    "import pandas as pd\n",
    "import numpy as np\n",
    "from utils import Utils\n",
    "\n",
    "\n",
    "from utils import send_data_multiple_ubidots\n",
    "from datetime import datetime, timezone, timedelta\n",
    "from dotenv import load_dotenv\n",
    "import math\n",
    "import psycopg2\n",
    "from sqlalchemy import create_engine"
   ]
  },
  {
   "cell_type": "markdown",
   "metadata": {},
   "source": [
    "Realizamos consulta SQL a la BD del VProuter. Es necesario estar conectado a la VPN o estar dentro de la red"
   ]
  },
  {
   "cell_type": "code",
   "execution_count": 3,
   "metadata": {},
   "outputs": [
    {
     "name": "stdout",
     "output_type": "stream",
     "text": [
      "Conexión exitosa, la consulta se realizará entre las fechas 2025-01-12 00:00:00.000 -05:00 y 2025-03-13 13:59:48.000 -05:00\n",
      "DataFrame de los registros de data.daq_data entre '2025-01-12 00:00:00.000 -05:00' y '2025-03-13 13:59:48.000 -05:00':\n",
      "         connected_id  input_id          data                   created\n",
      "0                  38         1  9.246570e+03 2025-01-12 06:01:00+01:00\n",
      "1                  41         2  3.410616e+00 2025-01-12 06:01:00+01:00\n",
      "2                  37         2  5.345307e+00 2025-01-12 06:01:00+01:00\n",
      "3                  39         3  3.725190e+01 2025-01-12 06:01:00+01:00\n",
      "4                  39         1  1.045032e+04 2025-01-12 06:01:00+01:00\n",
      "...               ...       ...           ...                       ...\n",
      "2734657             2         4  2.172610e+06 2025-03-13 19:59:00+01:00\n",
      "2734658             2         3  2.031080e+01 2025-03-13 19:59:00+01:00\n",
      "2734659            10        15  1.106219e+01 2025-03-13 19:59:00+01:00\n",
      "2734660            10        14  1.100589e+01 2025-03-13 19:59:00+01:00\n",
      "2734661            20        23  3.420270e+05 2025-03-13 19:59:00+01:00\n",
      "\n",
      "[2734662 rows x 4 columns]\n",
      "Conexión cerrada\n"
     ]
    }
   ],
   "source": [
    "# Cargar variables de entorno\n",
    "load_dotenv()\n",
    "\n",
    "# Obtener el directorio del proyecto\n",
    "ProDir = os.getcwd()\n",
    "\n",
    "# Obtener la fecha inicial de consulta\n",
    "# Abrir el archivo en modo de lectura para consultar la última fecha en que se cargaron datos a Ubidots, esta fecha se convierte en la nueva fecha inicial de consulta\n",
    "with open(os.path.join(ProDir, 'UF.txt'), 'r') as archivo:\n",
    "    # Leer el contenido del archivo en un string\n",
    "    fecha_inicial = archivo.read()\n",
    "\n",
    "\n",
    "# Obtener la fecha final de consulta de la hora actual del sistema \n",
    "fecha_actual = datetime.now()\n",
    "\n",
    "\n",
    "# Formatear la fecha y hora del sistema según el formato requerido para hacer la consulta a el VP\n",
    "formato_deseado = \"%Y-%m-%d %H:%M:%S\"\n",
    "#fecha_final = '2023-11-03 00:00:00.000 -05:00' #fecha estatica para pruebas\n",
    "fecha_final = fecha_actual.strftime(formato_deseado)  + '.000 -05:00'\n",
    "\n",
    "\n",
    "try:\n",
    "    # Establecer la conexión a la base de datos\n",
    "    connection = psycopg2.connect(\n",
    "        host = os.getenv(\"_host\"),\n",
    "        user = os.getenv(\"_user\"),\n",
    "        password = os.getenv(\"_password\"),\n",
    "        database = os.getenv(\"_database\"),\n",
    "        port = os.getenv(\"_port\")\n",
    "    )\n",
    "    print('Conexión exitosa, la consulta se realizará entre las fechas ' + fecha_inicial + ' y ' + str(fecha_final))\n",
    "\n",
    "    # Crear un cursor para la conexión\n",
    "    cursor = connection.cursor()\n",
    "\n",
    "    # Nueva consulta SQL usando las variables de fecha\n",
    "    query = f\"\"\"\n",
    "        SELECT\n",
    "            data.connected_id,\n",
    "            data.input_id,\n",
    "            data.data,\n",
    "            data.created\n",
    "        FROM\n",
    "            data.daq_data AS data\n",
    "        WHERE\n",
    "            data.created > '{fecha_inicial}' AND data.created < '{fecha_final}'\n",
    "        ORDER BY\n",
    "            data.created;\n",
    "\n",
    "    \"\"\"\n",
    "\n",
    "    # Ejecutar la nueva consulta SQL\n",
    "    cursor.execute(query)\n",
    "\n",
    "    # Obtener todas las filas resultantes\n",
    "    rows = cursor.fetchall()\n",
    "\n",
    "    # Obtener los nombres de las columnas\n",
    "    column_names = [desc[0] for desc in cursor.description]\n",
    "\n",
    "    # Crear un DataFrame de pandas\n",
    "    df = pd.DataFrame(rows, columns=column_names)\n",
    "\n",
    "    # Imprimir el DataFrame o realizar otras operaciones con él\n",
    "    print(f\"DataFrame de los registros de data.daq_data entre '{fecha_inicial}' y '{fecha_final}':\")\n",
    "    print(df)\n",
    "\n",
    "except Exception as ex:\n",
    "    print(ex)\n",
    "    print('No se pudo realizar la consulta')\n",
    "\n",
    "finally:\n",
    "    # Cerrar la conexión, independientemente de si se realizó la conexión o no\n",
    "    if connection:\n",
    "        connection.close()\n",
    "        print('Conexión cerrada')\n"
   ]
  },
  {
   "cell_type": "markdown",
   "metadata": {},
   "source": [
    "Se contruye diccionario que relaciona la información de la consulta, con los nombres asignados a las variables"
   ]
  },
  {
   "cell_type": "code",
   "execution_count": 4,
   "metadata": {},
   "outputs": [],
   "source": [
    "variables ={\n",
    "    (40, 2): 'vpm-14-pressure-psi',\n",
    "    (40, 4): 'vpm-14-totalizer-mscf',\n",
    "    (40, 1): 'vpm-14-flow-scfm',\n",
    "    (40, 3): 'vpm-14-temperature',\n",
    "    (41, 2): 'vpm-12-pressure-psi',\n",
    "    (41, 4): 'vpm-12-totalizer-mscf',\n",
    "    (41, 1): 'vpm-12-flow-scfm',\n",
    "    (41, 3): 'vpm-12-temperature'\n",
    "\n",
    "}\n"
   ]
  },
  {
   "cell_type": "code",
   "execution_count": 5,
   "metadata": {},
   "outputs": [],
   "source": [
    "# Función para mapear el diccionario\n",
    "def map_name(row):\n",
    "    key = (row['connected_id'], row['input_id'])\n",
    "    return variables.get(key, None)\n",
    "\n",
    "# Crear la nueva columna 'name' utilizando la función map\n",
    "df['name'] = df.apply(map_name, axis=1)\n",
    "\n",
    "# Reemplazar los valores de -70 que envían los dewpoint\n",
    "#df['data'] = df['data'].replace(-70, np.nan)\n",
    "\n",
    "\n",
    "#df.dropna(inplace=True)\n",
    "\n",
    "# Hacer las conversiones de fecha y hora correspondientes para Ubi\n",
    "# Convertir la columna \"created\" a DateTime con el formato deseado\n",
    "df['created'] = pd.to_datetime(df['created'], utc=True)\n",
    "df['Date'] = pd.to_datetime(df['created'], format=\"%Y-%m-%d %H:%M:%S%z\")\n",
    "\n",
    "#Falcon_data['Date'] = Falcon_data['Date'].Falcon_data.tz_convert('Etc/GMT+1')\n",
    "df['Date'] = pd.to_datetime(df['Date']).dt.tz_convert('Etc/GMT+1')"
   ]
  },
  {
   "cell_type": "code",
   "execution_count": 6,
   "metadata": {},
   "outputs": [],
   "source": [
    "df_data = df[['Date', 'name', 'data']]"
   ]
  },
  {
   "cell_type": "code",
   "execution_count": 7,
   "metadata": {},
   "outputs": [
    {
     "data": {
      "application/vnd.microsoft.datawrangler.viewer.v0+json": {
       "columns": [
        {
         "name": "index",
         "rawType": "int64",
         "type": "integer"
        },
        {
         "name": "Date",
         "rawType": "datetime64[ns, Etc/GMT+1]",
         "type": "unknown"
        },
        {
         "name": "name",
         "rawType": "object",
         "type": "string"
        },
        {
         "name": "data",
         "rawType": "float64",
         "type": "float"
        }
       ],
       "conversionMethod": "pd.DataFrame",
       "ref": "7051d684-0436-4d21-b798-0e6f73df484e",
       "rows": [
        [
         "0",
         "2025-01-12 04:01:00-01:00",
         null,
         "9246.5705"
        ],
        [
         "1",
         "2025-01-12 04:01:00-01:00",
         "vpm-12-pressure-psi",
         "3.41061616666667"
        ],
        [
         "2",
         "2025-01-12 04:01:00-01:00",
         null,
         "5.34530716666667"
        ],
        [
         "3",
         "2025-01-12 04:01:00-01:00",
         null,
         "37.2518966666667"
        ],
        [
         "4",
         "2025-01-12 04:01:00-01:00",
         null,
         "10450.3216666667"
        ],
        [
         "5",
         "2025-01-12 04:01:00-01:00",
         null,
         "-70.0"
        ],
        [
         "6",
         "2025-01-12 04:01:00-01:00",
         null,
         "48909778.3333333"
        ],
        [
         "7",
         "2025-01-12 04:01:00-01:00",
         "vpm-14-temperature",
         "38.5309383333333"
        ],
        [
         "8",
         "2025-01-12 04:01:00-01:00",
         "vpm-14-totalizer-mscf",
         "70515058.3333333"
        ],
        [
         "9",
         "2025-01-12 04:01:00-01:00",
         null,
         "5.34842733333333"
        ],
        [
         "10",
         "2025-01-12 04:01:00-01:00",
         null,
         "3.41790666666667"
        ],
        [
         "11",
         "2025-01-12 04:01:00-01:00",
         null,
         "50760530.0"
        ],
        [
         "12",
         "2025-01-12 04:01:00-01:00",
         "vpm-12-totalizer-mscf",
         "54247770.0"
        ],
        [
         "13",
         "2025-01-12 04:01:00-01:00",
         "vpm-12-flow-scfm",
         "10041.6073333333"
        ],
        [
         "14",
         "2025-01-12 04:01:00-01:00",
         null,
         "-70.0"
        ],
        [
         "15",
         "2025-01-12 04:01:00-01:00",
         null,
         "-70.0"
        ],
        [
         "16",
         "2025-01-12 04:01:00-01:00",
         null,
         "0.547241733333333"
        ],
        [
         "17",
         "2025-01-12 04:01:00-01:00",
         null,
         "-11.981115"
        ],
        [
         "18",
         "2025-01-12 04:01:00-01:00",
         "vpm-14-flow-scfm",
         "9640.59733333333"
        ],
        [
         "19",
         "2025-01-12 04:01:00-01:00",
         null,
         "8261.91433333333"
        ],
        [
         "20",
         "2025-01-12 04:01:00-01:00",
         "vpm-14-pressure-psi",
         "5.302726"
        ],
        [
         "21",
         "2025-01-12 04:01:00-01:00",
         null,
         "37.38097"
        ],
        [
         "22",
         "2025-01-12 04:01:00-01:00",
         null,
         "45827153.3333333"
        ],
        [
         "23",
         "2025-01-12 04:01:00-01:00",
         "vpm-12-temperature",
         "37.7357316666667"
        ],
        [
         "24",
         "2025-01-12 04:01:00-01:00",
         null,
         "41.504765"
        ],
        [
         "25",
         "2025-01-12 04:01:00-01:00",
         null,
         "0.0"
        ],
        [
         "26",
         "2025-01-12 04:01:00-01:00",
         null,
         "0.0"
        ],
        [
         "27",
         "2025-01-12 04:01:00-01:00",
         null,
         "-70.0"
        ],
        [
         "28",
         "2025-01-12 04:01:00-01:00",
         null,
         "-1.08763505"
        ],
        [
         "29",
         "2025-01-12 04:02:00-01:00",
         null,
         "9245.594"
        ],
        [
         "30",
         "2025-01-12 04:02:00-01:00",
         "vpm-12-pressure-psi",
         "3.40857466666667"
        ],
        [
         "31",
         "2025-01-12 04:02:00-01:00",
         null,
         "5.34883733333333"
        ],
        [
         "32",
         "2025-01-12 04:02:00-01:00",
         null,
         "37.1995116666667"
        ],
        [
         "33",
         "2025-01-12 04:02:00-01:00",
         null,
         "10306.9276666667"
        ],
        [
         "34",
         "2025-01-12 04:02:00-01:00",
         null,
         "-70.0"
        ],
        [
         "35",
         "2025-01-12 04:02:00-01:00",
         null,
         "48909941.6666667"
        ],
        [
         "36",
         "2025-01-12 04:02:00-01:00",
         "vpm-14-temperature",
         "38.50318"
        ],
        [
         "37",
         "2025-01-12 04:02:00-01:00",
         "vpm-14-totalizer-mscf",
         "70515211.6666667"
        ],
        [
         "38",
         "2025-01-12 04:02:00-01:00",
         null,
         "5.35253016666667"
        ],
        [
         "39",
         "2025-01-12 04:02:00-01:00",
         null,
         "3.4157665"
        ],
        [
         "40",
         "2025-01-12 04:02:00-01:00",
         null,
         "50760648.3333333"
        ],
        [
         "41",
         "2025-01-12 04:02:00-01:00",
         "vpm-12-totalizer-mscf",
         "54247935.0"
        ],
        [
         "42",
         "2025-01-12 04:02:00-01:00",
         "vpm-12-flow-scfm",
         "9921.97533333334"
        ],
        [
         "43",
         "2025-01-12 04:02:00-01:00",
         null,
         "-70.0"
        ],
        [
         "44",
         "2025-01-12 04:02:00-01:00",
         null,
         "-70.0"
        ],
        [
         "45",
         "2025-01-12 04:02:00-01:00",
         null,
         "0.517949633333333"
        ],
        [
         "46",
         "2025-01-12 04:02:00-01:00",
         null,
         "-11.996685"
        ],
        [
         "47",
         "2025-01-12 04:02:00-01:00",
         "vpm-14-flow-scfm",
         "9657.26316666666"
        ],
        [
         "48",
         "2025-01-12 04:02:00-01:00",
         null,
         "8205.08916666666"
        ],
        [
         "49",
         "2025-01-12 04:02:00-01:00",
         "vpm-14-pressure-psi",
         "5.3074105"
        ]
       ],
       "shape": {
        "columns": 3,
        "rows": 2734662
       }
      },
      "text/html": [
       "<div>\n",
       "<style scoped>\n",
       "    .dataframe tbody tr th:only-of-type {\n",
       "        vertical-align: middle;\n",
       "    }\n",
       "\n",
       "    .dataframe tbody tr th {\n",
       "        vertical-align: top;\n",
       "    }\n",
       "\n",
       "    .dataframe thead th {\n",
       "        text-align: right;\n",
       "    }\n",
       "</style>\n",
       "<table border=\"1\" class=\"dataframe\">\n",
       "  <thead>\n",
       "    <tr style=\"text-align: right;\">\n",
       "      <th></th>\n",
       "      <th>Date</th>\n",
       "      <th>name</th>\n",
       "      <th>data</th>\n",
       "    </tr>\n",
       "  </thead>\n",
       "  <tbody>\n",
       "    <tr>\n",
       "      <th>0</th>\n",
       "      <td>2025-01-12 04:01:00-01:00</td>\n",
       "      <td>None</td>\n",
       "      <td>9.246570e+03</td>\n",
       "    </tr>\n",
       "    <tr>\n",
       "      <th>1</th>\n",
       "      <td>2025-01-12 04:01:00-01:00</td>\n",
       "      <td>vpm-12-pressure-psi</td>\n",
       "      <td>3.410616e+00</td>\n",
       "    </tr>\n",
       "    <tr>\n",
       "      <th>2</th>\n",
       "      <td>2025-01-12 04:01:00-01:00</td>\n",
       "      <td>None</td>\n",
       "      <td>5.345307e+00</td>\n",
       "    </tr>\n",
       "    <tr>\n",
       "      <th>3</th>\n",
       "      <td>2025-01-12 04:01:00-01:00</td>\n",
       "      <td>None</td>\n",
       "      <td>3.725190e+01</td>\n",
       "    </tr>\n",
       "    <tr>\n",
       "      <th>4</th>\n",
       "      <td>2025-01-12 04:01:00-01:00</td>\n",
       "      <td>None</td>\n",
       "      <td>1.045032e+04</td>\n",
       "    </tr>\n",
       "    <tr>\n",
       "      <th>...</th>\n",
       "      <td>...</td>\n",
       "      <td>...</td>\n",
       "      <td>...</td>\n",
       "    </tr>\n",
       "    <tr>\n",
       "      <th>2734657</th>\n",
       "      <td>2025-03-13 17:59:00-01:00</td>\n",
       "      <td>None</td>\n",
       "      <td>2.172610e+06</td>\n",
       "    </tr>\n",
       "    <tr>\n",
       "      <th>2734658</th>\n",
       "      <td>2025-03-13 17:59:00-01:00</td>\n",
       "      <td>None</td>\n",
       "      <td>2.031080e+01</td>\n",
       "    </tr>\n",
       "    <tr>\n",
       "      <th>2734659</th>\n",
       "      <td>2025-03-13 17:59:00-01:00</td>\n",
       "      <td>None</td>\n",
       "      <td>1.106219e+01</td>\n",
       "    </tr>\n",
       "    <tr>\n",
       "      <th>2734660</th>\n",
       "      <td>2025-03-13 17:59:00-01:00</td>\n",
       "      <td>None</td>\n",
       "      <td>1.100589e+01</td>\n",
       "    </tr>\n",
       "    <tr>\n",
       "      <th>2734661</th>\n",
       "      <td>2025-03-13 17:59:00-01:00</td>\n",
       "      <td>None</td>\n",
       "      <td>3.420270e+05</td>\n",
       "    </tr>\n",
       "  </tbody>\n",
       "</table>\n",
       "<p>2734662 rows × 3 columns</p>\n",
       "</div>"
      ],
      "text/plain": [
       "                             Date                 name          data\n",
       "0       2025-01-12 04:01:00-01:00                 None  9.246570e+03\n",
       "1       2025-01-12 04:01:00-01:00  vpm-12-pressure-psi  3.410616e+00\n",
       "2       2025-01-12 04:01:00-01:00                 None  5.345307e+00\n",
       "3       2025-01-12 04:01:00-01:00                 None  3.725190e+01\n",
       "4       2025-01-12 04:01:00-01:00                 None  1.045032e+04\n",
       "...                           ...                  ...           ...\n",
       "2734657 2025-03-13 17:59:00-01:00                 None  2.172610e+06\n",
       "2734658 2025-03-13 17:59:00-01:00                 None  2.031080e+01\n",
       "2734659 2025-03-13 17:59:00-01:00                 None  1.106219e+01\n",
       "2734660 2025-03-13 17:59:00-01:00                 None  1.100589e+01\n",
       "2734661 2025-03-13 17:59:00-01:00                 None  3.420270e+05\n",
       "\n",
       "[2734662 rows x 3 columns]"
      ]
     },
     "execution_count": 7,
     "metadata": {},
     "output_type": "execute_result"
    }
   ],
   "source": [
    "df_data"
   ]
  }
 ],
 "metadata": {
  "kernelspec": {
   "display_name": "myenv",
   "language": "python",
   "name": "python3"
  },
  "language_info": {
   "codemirror_mode": {
    "name": "ipython",
    "version": 3
   },
   "file_extension": ".py",
   "mimetype": "text/x-python",
   "name": "python",
   "nbconvert_exporter": "python",
   "pygments_lexer": "ipython3",
   "version": "3.9.16"
  }
 },
 "nbformat": 4,
 "nbformat_minor": 2
}
